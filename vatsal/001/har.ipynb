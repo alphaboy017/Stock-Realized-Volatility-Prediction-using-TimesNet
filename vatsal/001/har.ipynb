{
 "cells": [
  {
   "cell_type": "code",
   "execution_count": 39,
   "id": "a494d782",
   "metadata": {},
   "outputs": [],
   "source": [
    "import pandas as pd\n",
    "import numpy as np\n",
    "import statsmodels.api as sm"
   ]
  },
  {
   "cell_type": "code",
   "execution_count": 41,
   "id": "92fd64c5",
   "metadata": {},
   "outputs": [],
   "source": [
    "df = pd.read_csv(\"SP100_vol_ffill.csv\", index_col=\"Date\",parse_dates=True)"
   ]
  },
  {
   "cell_type": "code",
   "execution_count": 42,
   "id": "aa24a14a",
   "metadata": {},
   "outputs": [
    {
     "data": {
      "text/html": [
       "<div>\n",
       "<style scoped>\n",
       "    .dataframe tbody tr th:only-of-type {\n",
       "        vertical-align: middle;\n",
       "    }\n",
       "\n",
       "    .dataframe tbody tr th {\n",
       "        vertical-align: top;\n",
       "    }\n",
       "\n",
       "    .dataframe thead th {\n",
       "        text-align: right;\n",
       "    }\n",
       "</style>\n",
       "<table border=\"1\" class=\"dataframe\">\n",
       "  <thead>\n",
       "    <tr style=\"text-align: right;\">\n",
       "      <th></th>\n",
       "      <th>AAPL</th>\n",
       "      <th>ABBV</th>\n",
       "      <th>ABT</th>\n",
       "      <th>ACN</th>\n",
       "      <th>ADBE</th>\n",
       "      <th>AIG</th>\n",
       "      <th>AMD</th>\n",
       "      <th>AMGN</th>\n",
       "      <th>AMT</th>\n",
       "      <th>AMZN</th>\n",
       "      <th>...</th>\n",
       "      <th>NKE</th>\n",
       "      <th>NOW</th>\n",
       "      <th>NVDA</th>\n",
       "      <th>ORCL</th>\n",
       "      <th>PEP</th>\n",
       "      <th>PFE</th>\n",
       "      <th>PG</th>\n",
       "      <th>PLTR</th>\n",
       "      <th>PM</th>\n",
       "      <th>PYPL</th>\n",
       "    </tr>\n",
       "    <tr>\n",
       "      <th>Date</th>\n",
       "      <th></th>\n",
       "      <th></th>\n",
       "      <th></th>\n",
       "      <th></th>\n",
       "      <th></th>\n",
       "      <th></th>\n",
       "      <th></th>\n",
       "      <th></th>\n",
       "      <th></th>\n",
       "      <th></th>\n",
       "      <th></th>\n",
       "      <th></th>\n",
       "      <th></th>\n",
       "      <th></th>\n",
       "      <th></th>\n",
       "      <th></th>\n",
       "      <th></th>\n",
       "      <th></th>\n",
       "      <th></th>\n",
       "      <th></th>\n",
       "      <th></th>\n",
       "    </tr>\n",
       "  </thead>\n",
       "  <tbody>\n",
       "    <tr>\n",
       "      <th>03-01-2007 00:00</th>\n",
       "      <td>1.974049</td>\n",
       "      <td>0.034057</td>\n",
       "      <td>0.667621</td>\n",
       "      <td>0.822765</td>\n",
       "      <td>0.942692</td>\n",
       "      <td>0.267089</td>\n",
       "      <td>1.618511</td>\n",
       "      <td>1.045328</td>\n",
       "      <td>0.560132</td>\n",
       "      <td>0.825839</td>\n",
       "      <td>...</td>\n",
       "      <td>0.313073</td>\n",
       "      <td>0.109702</td>\n",
       "      <td>1.897743</td>\n",
       "      <td>0.652943</td>\n",
       "      <td>0.343138</td>\n",
       "      <td>0.300183</td>\n",
       "      <td>0.338006</td>\n",
       "      <td>0.06684</td>\n",
       "      <td>0.067433</td>\n",
       "      <td>0.038919</td>\n",
       "    </tr>\n",
       "    <tr>\n",
       "      <th>04-01-2007 00:00</th>\n",
       "      <td>1.974049</td>\n",
       "      <td>0.034057</td>\n",
       "      <td>0.667621</td>\n",
       "      <td>0.822765</td>\n",
       "      <td>0.942692</td>\n",
       "      <td>0.267089</td>\n",
       "      <td>1.618511</td>\n",
       "      <td>1.045328</td>\n",
       "      <td>0.560132</td>\n",
       "      <td>0.825839</td>\n",
       "      <td>...</td>\n",
       "      <td>0.313073</td>\n",
       "      <td>0.109702</td>\n",
       "      <td>1.897743</td>\n",
       "      <td>0.652943</td>\n",
       "      <td>0.343138</td>\n",
       "      <td>0.300183</td>\n",
       "      <td>0.338006</td>\n",
       "      <td>0.06684</td>\n",
       "      <td>0.067433</td>\n",
       "      <td>0.038919</td>\n",
       "    </tr>\n",
       "    <tr>\n",
       "      <th>05-01-2007 00:00</th>\n",
       "      <td>1.974049</td>\n",
       "      <td>0.034057</td>\n",
       "      <td>0.667621</td>\n",
       "      <td>0.822765</td>\n",
       "      <td>0.942692</td>\n",
       "      <td>0.267089</td>\n",
       "      <td>1.618511</td>\n",
       "      <td>1.045328</td>\n",
       "      <td>0.560132</td>\n",
       "      <td>0.825839</td>\n",
       "      <td>...</td>\n",
       "      <td>0.313073</td>\n",
       "      <td>0.109702</td>\n",
       "      <td>1.897743</td>\n",
       "      <td>0.652943</td>\n",
       "      <td>0.343138</td>\n",
       "      <td>0.300183</td>\n",
       "      <td>0.338006</td>\n",
       "      <td>0.06684</td>\n",
       "      <td>0.067433</td>\n",
       "      <td>0.038919</td>\n",
       "    </tr>\n",
       "    <tr>\n",
       "      <th>08-01-2007 00:00</th>\n",
       "      <td>1.974049</td>\n",
       "      <td>0.034057</td>\n",
       "      <td>0.667621</td>\n",
       "      <td>0.822765</td>\n",
       "      <td>0.942692</td>\n",
       "      <td>0.267089</td>\n",
       "      <td>1.618511</td>\n",
       "      <td>1.045328</td>\n",
       "      <td>0.560132</td>\n",
       "      <td>0.825839</td>\n",
       "      <td>...</td>\n",
       "      <td>0.313073</td>\n",
       "      <td>0.109702</td>\n",
       "      <td>1.897743</td>\n",
       "      <td>0.652943</td>\n",
       "      <td>0.343138</td>\n",
       "      <td>0.300183</td>\n",
       "      <td>0.338006</td>\n",
       "      <td>0.06684</td>\n",
       "      <td>0.067433</td>\n",
       "      <td>0.038919</td>\n",
       "    </tr>\n",
       "    <tr>\n",
       "      <th>09-01-2007 00:00</th>\n",
       "      <td>1.974049</td>\n",
       "      <td>0.034057</td>\n",
       "      <td>0.667621</td>\n",
       "      <td>0.822765</td>\n",
       "      <td>0.942692</td>\n",
       "      <td>0.267089</td>\n",
       "      <td>1.618511</td>\n",
       "      <td>1.045328</td>\n",
       "      <td>0.560132</td>\n",
       "      <td>0.825839</td>\n",
       "      <td>...</td>\n",
       "      <td>0.313073</td>\n",
       "      <td>0.109702</td>\n",
       "      <td>1.897743</td>\n",
       "      <td>0.652943</td>\n",
       "      <td>0.343138</td>\n",
       "      <td>0.300183</td>\n",
       "      <td>0.338006</td>\n",
       "      <td>0.06684</td>\n",
       "      <td>0.067433</td>\n",
       "      <td>0.038919</td>\n",
       "    </tr>\n",
       "  </tbody>\n",
       "</table>\n",
       "<p>5 rows × 80 columns</p>\n",
       "</div>"
      ],
      "text/plain": [
       "                      AAPL      ABBV       ABT       ACN      ADBE       AIG  \\\n",
       "Date                                                                           \n",
       "03-01-2007 00:00  1.974049  0.034057  0.667621  0.822765  0.942692  0.267089   \n",
       "04-01-2007 00:00  1.974049  0.034057  0.667621  0.822765  0.942692  0.267089   \n",
       "05-01-2007 00:00  1.974049  0.034057  0.667621  0.822765  0.942692  0.267089   \n",
       "08-01-2007 00:00  1.974049  0.034057  0.667621  0.822765  0.942692  0.267089   \n",
       "09-01-2007 00:00  1.974049  0.034057  0.667621  0.822765  0.942692  0.267089   \n",
       "\n",
       "                       AMD      AMGN       AMT      AMZN  ...       NKE  \\\n",
       "Date                                                      ...             \n",
       "03-01-2007 00:00  1.618511  1.045328  0.560132  0.825839  ...  0.313073   \n",
       "04-01-2007 00:00  1.618511  1.045328  0.560132  0.825839  ...  0.313073   \n",
       "05-01-2007 00:00  1.618511  1.045328  0.560132  0.825839  ...  0.313073   \n",
       "08-01-2007 00:00  1.618511  1.045328  0.560132  0.825839  ...  0.313073   \n",
       "09-01-2007 00:00  1.618511  1.045328  0.560132  0.825839  ...  0.313073   \n",
       "\n",
       "                       NOW      NVDA      ORCL       PEP       PFE        PG  \\\n",
       "Date                                                                           \n",
       "03-01-2007 00:00  0.109702  1.897743  0.652943  0.343138  0.300183  0.338006   \n",
       "04-01-2007 00:00  0.109702  1.897743  0.652943  0.343138  0.300183  0.338006   \n",
       "05-01-2007 00:00  0.109702  1.897743  0.652943  0.343138  0.300183  0.338006   \n",
       "08-01-2007 00:00  0.109702  1.897743  0.652943  0.343138  0.300183  0.338006   \n",
       "09-01-2007 00:00  0.109702  1.897743  0.652943  0.343138  0.300183  0.338006   \n",
       "\n",
       "                     PLTR        PM      PYPL  \n",
       "Date                                           \n",
       "03-01-2007 00:00  0.06684  0.067433  0.038919  \n",
       "04-01-2007 00:00  0.06684  0.067433  0.038919  \n",
       "05-01-2007 00:00  0.06684  0.067433  0.038919  \n",
       "08-01-2007 00:00  0.06684  0.067433  0.038919  \n",
       "09-01-2007 00:00  0.06684  0.067433  0.038919  \n",
       "\n",
       "[5 rows x 80 columns]"
      ]
     },
     "execution_count": 42,
     "metadata": {},
     "output_type": "execute_result"
    }
   ],
   "source": [
    "df.head()"
   ]
  },
  {
   "cell_type": "code",
   "execution_count": 43,
   "id": "bfffe64c",
   "metadata": {},
   "outputs": [],
   "source": [
    "train=df.iloc[:int(len(df)*0.7)]"
   ]
  },
  {
   "cell_type": "code",
   "execution_count": 44,
   "id": "a63d54f3",
   "metadata": {},
   "outputs": [],
   "source": [
    "test=df.iloc[int(len(df)*0.7)-22:]"
   ]
  },
  {
   "cell_type": "code",
   "execution_count": 45,
   "id": "d4cd8cda",
   "metadata": {},
   "outputs": [
    {
     "data": {
      "text/plain": [
       "AAPL    1.063223\n",
       "ABBV    0.616832\n",
       "ABT     0.499624\n",
       "ACN     0.728602\n",
       "ADBE    0.981625\n",
       "          ...   \n",
       "PFE     0.658292\n",
       "PG      0.426430\n",
       "PLTR    0.066840\n",
       "PM      0.548380\n",
       "PYPL    1.050004\n",
       "Name: 03-07-2017 00:00, Length: 80, dtype: float64"
      ]
     },
     "execution_count": 45,
     "metadata": {},
     "output_type": "execute_result"
    }
   ],
   "source": [
    "df.iloc[int(len(df)*0.7)]"
   ]
  },
  {
   "cell_type": "code",
   "execution_count": 46,
   "id": "da19964b",
   "metadata": {},
   "outputs": [],
   "source": [
    "train=np.array(train)"
   ]
  },
  {
   "cell_type": "code",
   "execution_count": 47,
   "id": "d0dc6a59",
   "metadata": {},
   "outputs": [
    {
     "data": {
      "text/plain": [
       "(2643, 80)"
      ]
     },
     "execution_count": 47,
     "metadata": {},
     "output_type": "execute_result"
    }
   ],
   "source": [
    "train.shape"
   ]
  },
  {
   "cell_type": "code",
   "execution_count": 48,
   "id": "fe75b4f1",
   "metadata": {},
   "outputs": [],
   "source": [
    "RV_d = []\n",
    "for i in range(len(train)-1):\n",
    "  RV_d.append(train[i].astype(float))\n",
    "\n",
    "RV_w = []\n",
    "for i in range(len(train)-5):\n",
    "  RV_w.append(np.mean(train[i:i+5]).astype(float))\n",
    "\n",
    "RV_m = []\n",
    "for i in range(len(train)-22):\n",
    "  RV_m.append(np.mean(train[i:i+22]).astype(float))\n",
    "\n",
    "RV_d=RV_d[len(RV_d)-len(RV_m):]\n",
    "RV_w=RV_w[len(RV_w)-len(RV_m):]"
   ]
  },
  {
   "cell_type": "code",
   "execution_count": 49,
   "id": "94353e2c",
   "metadata": {},
   "outputs": [],
   "source": [
    "RV_D = np.zeros([len(RV_d),train.shape[1]])\n",
    "for i in range(len(RV_d)):\n",
    "  RV_D[i,:]=RV_d[i]\n",
    "\n",
    "RV_W = np.zeros([len(RV_w),train.shape[1]])\n",
    "for i in range(len(RV_w)):\n",
    "  RV_W[i,:]=RV_w[i]\n",
    "\n",
    "RV_M = np.zeros([len(RV_m),train.shape[1]])\n",
    "for i in range(len(RV_m)):\n",
    "  RV_M[i,:]=RV_m[i]"
   ]
  },
  {
   "cell_type": "code",
   "execution_count": 50,
   "id": "6a983950",
   "metadata": {},
   "outputs": [],
   "source": [
    "RV_actuals=train[22:,:]"
   ]
  },
  {
   "cell_type": "code",
   "execution_count": 51,
   "id": "e7da13b2",
   "metadata": {},
   "outputs": [
    {
     "data": {
      "text/plain": [
       "(2621, 80)"
      ]
     },
     "execution_count": 51,
     "metadata": {},
     "output_type": "execute_result"
    }
   ],
   "source": [
    "RV_actuals.shape"
   ]
  },
  {
   "cell_type": "code",
   "execution_count": 52,
   "id": "e49c8b20",
   "metadata": {},
   "outputs": [],
   "source": [
    "test=np.array(test)"
   ]
  },
  {
   "cell_type": "code",
   "execution_count": 53,
   "id": "b219f972",
   "metadata": {},
   "outputs": [
    {
     "data": {
      "text/plain": [
       "(1156, 80)"
      ]
     },
     "execution_count": 53,
     "metadata": {},
     "output_type": "execute_result"
    }
   ],
   "source": [
    "test.shape"
   ]
  },
  {
   "cell_type": "code",
   "execution_count": 54,
   "id": "7a99c610",
   "metadata": {},
   "outputs": [],
   "source": [
    "for i in range(len(test)-1):\n",
    "      RV_d.append(test[i].astype(float))\n",
    "\n",
    "RV_w = []\n",
    "for i in range(len(test)-5):\n",
    "  RV_w.append(np.mean(test[i:i+5]).astype(float))\n",
    "\n",
    "RV_m = []\n",
    "for i in range(len(test)-22):\n",
    "  RV_m.append(np.mean(test[i:i+22]).astype(float))\n",
    "\n",
    "RV_d=RV_d[len(RV_d)-len(RV_m):]\n",
    "RV_w=RV_w[len(RV_w)-len(RV_m):]\n",
    "RV_D_test = np.zeros([len(RV_d),test.shape[1]])\n",
    "for i in range(len(RV_d)):\n",
    "  RV_D_test[i,:]=RV_d[i]\n",
    "\n",
    "RV_W_test = np.zeros([len(RV_w),test.shape[1]])\n",
    "for i in range(len(RV_w)):\n",
    "  RV_W_test[i,:]=RV_w[i]\n",
    "\n",
    "RV_M_test = np.zeros([len(RV_m),test.shape[1]])\n",
    "for i in range(len(RV_m)):\n",
    "  RV_M_test[i,:]=RV_m[i]"
   ]
  },
  {
   "cell_type": "code",
   "execution_count": 57,
   "id": "11792de0",
   "metadata": {},
   "outputs": [],
   "source": [
    "forecasts=np.zeros([test.shape[0]-22,test.shape[1]])\n",
    "for j in range(test.shape[1]):\n",
    "  Data ={'Actual': RV_actuals[:,j],\n",
    "  'D': RV_D[:,j],\n",
    "  'W': RV_W[:,j],\n",
    "  'M': RV_M[:,j]}\n",
    "  dataframe = pd.DataFrame(data=Data)\n",
    "  rv_scaled=dataframe\n",
    "  rv_scaled = sm.add_constant(rv_scaled)\n",
    "  rv_scaled['Actual']=rv_scaled['Actual'].astype(float)\n",
    "  rv_scaled['D']=rv_scaled['D'].astype(float)\n",
    "  rv_scaled['W']=rv_scaled['W'].astype(float)\n",
    "  rv_scaled['M']=rv_scaled['M'].astype(float)\n",
    "  X = rv_scaled.drop(\"Actual\", axis = 1)\n",
    "  y = rv_scaled[\"Actual\"]\n",
    "  results = sm.OLS(y, X).fit()\n",
    "  Data ={'D': RV_D_test[:,j],\n",
    "  'W': RV_W_test[:,j],\n",
    "  'M': RV_M_test[:,j]}\n",
    "  dataframe = pd.DataFrame(data=Data)\n",
    "  rv_scaled=dataframe\n",
    "  # Use the same columns as in training\n",
    "  X_test = sm.add_constant(rv_scaled[results.model.exog_names[1:]])  # skip 'const' in exog_names\n",
    "\n",
    "  # Now predict\n",
    "  forecasts[:,j] = results.predict(X_test)"
   ]
  },
  {
   "cell_type": "code",
   "execution_count": 58,
   "id": "13647335",
   "metadata": {},
   "outputs": [
    {
     "data": {
      "text/plain": [
       "(1134, 80)"
      ]
     },
     "execution_count": 58,
     "metadata": {},
     "output_type": "execute_result"
    }
   ],
   "source": [
    "forecasts.shape"
   ]
  },
  {
   "cell_type": "code",
   "execution_count": 59,
   "id": "89811ee5",
   "metadata": {},
   "outputs": [
    {
     "data": {
      "text/plain": [
       "array([1.06635676, 0.63962897, 0.52927652, 0.73953642, 0.92506877,\n",
       "       0.46708546, 2.95212706, 0.89894751, 0.62151912, 0.96073752,\n",
       "       1.83824801, 0.51270022, 0.64868546, 1.03722597, 0.6581203 ,\n",
       "       0.85718545, 0.57205688, 1.08830528, 0.49210327, 0.80808551,\n",
       "       0.88764034, 1.02645479, 0.47660007, 0.90941451, 0.73221923,\n",
       "       1.12782835, 1.31487366, 0.93290293, 0.630562  , 1.04175601,\n",
       "       0.75320541, 0.64184965, 0.50081908, 0.6413659 , 0.44427241,\n",
       "       1.00974422, 0.81418681, 0.60701596, 0.93239609, 1.06961401,\n",
       "       0.51291116, 0.99149718, 0.97716623, 0.8382237 , 0.71156017,\n",
       "       0.44319367, 0.43776063, 0.7314589 , 0.65954804, 0.77840098,\n",
       "       0.42817591, 0.77514081, 0.41133022, 1.        , 0.55934125,\n",
       "       0.41120184, 0.8837098 , 0.76787482, 0.57531272, 0.68115526,\n",
       "       0.50309645, 0.91989966, 0.91840112, 0.45628106, 0.5416173 ,\n",
       "       0.65595098, 0.88409564, 0.85686689, 0.50619531, 1.41501128,\n",
       "       1.96492176, 1.29111363, 2.0669553 , 1.44043794, 0.42951652,\n",
       "       0.65170488, 0.41782663, 1.        , 0.56555285, 1.05833896])"
      ]
     },
     "execution_count": 59,
     "metadata": {},
     "output_type": "execute_result"
    }
   ],
   "source": [
    "forecasts[0,:]"
   ]
  },
  {
   "cell_type": "code",
   "execution_count": 60,
   "id": "7e84af9f",
   "metadata": {},
   "outputs": [],
   "source": [
    "df1=df.iloc[int(len(df)*0.7):]"
   ]
  },
  {
   "cell_type": "code",
   "execution_count": 61,
   "id": "f040b1f5",
   "metadata": {},
   "outputs": [
    {
     "data": {
      "text/html": [
       "<div>\n",
       "<style scoped>\n",
       "    .dataframe tbody tr th:only-of-type {\n",
       "        vertical-align: middle;\n",
       "    }\n",
       "\n",
       "    .dataframe tbody tr th {\n",
       "        vertical-align: top;\n",
       "    }\n",
       "\n",
       "    .dataframe thead th {\n",
       "        text-align: right;\n",
       "    }\n",
       "</style>\n",
       "<table border=\"1\" class=\"dataframe\">\n",
       "  <thead>\n",
       "    <tr style=\"text-align: right;\">\n",
       "      <th></th>\n",
       "      <th>AAPL</th>\n",
       "      <th>ABBV</th>\n",
       "      <th>ABT</th>\n",
       "      <th>ACN</th>\n",
       "      <th>ADBE</th>\n",
       "      <th>AIG</th>\n",
       "      <th>AMD</th>\n",
       "      <th>AMGN</th>\n",
       "      <th>AMT</th>\n",
       "      <th>AMZN</th>\n",
       "      <th>...</th>\n",
       "      <th>NKE</th>\n",
       "      <th>NOW</th>\n",
       "      <th>NVDA</th>\n",
       "      <th>ORCL</th>\n",
       "      <th>PEP</th>\n",
       "      <th>PFE</th>\n",
       "      <th>PG</th>\n",
       "      <th>PLTR</th>\n",
       "      <th>PM</th>\n",
       "      <th>PYPL</th>\n",
       "    </tr>\n",
       "    <tr>\n",
       "      <th>Date</th>\n",
       "      <th></th>\n",
       "      <th></th>\n",
       "      <th></th>\n",
       "      <th></th>\n",
       "      <th></th>\n",
       "      <th></th>\n",
       "      <th></th>\n",
       "      <th></th>\n",
       "      <th></th>\n",
       "      <th></th>\n",
       "      <th></th>\n",
       "      <th></th>\n",
       "      <th></th>\n",
       "      <th></th>\n",
       "      <th></th>\n",
       "      <th></th>\n",
       "      <th></th>\n",
       "      <th></th>\n",
       "      <th></th>\n",
       "      <th></th>\n",
       "      <th></th>\n",
       "    </tr>\n",
       "  </thead>\n",
       "  <tbody>\n",
       "    <tr>\n",
       "      <th>03-07-2017 00:00</th>\n",
       "      <td>1.063223</td>\n",
       "      <td>0.616832</td>\n",
       "      <td>0.499624</td>\n",
       "      <td>0.728602</td>\n",
       "      <td>0.981625</td>\n",
       "      <td>0.485834</td>\n",
       "      <td>2.980026</td>\n",
       "      <td>0.891043</td>\n",
       "      <td>0.621440</td>\n",
       "      <td>0.970485</td>\n",
       "      <td>...</td>\n",
       "      <td>2.008477</td>\n",
       "      <td>1.310070</td>\n",
       "      <td>2.161606</td>\n",
       "      <td>1.470019</td>\n",
       "      <td>0.422495</td>\n",
       "      <td>0.658292</td>\n",
       "      <td>0.426430</td>\n",
       "      <td>0.06684</td>\n",
       "      <td>0.548380</td>\n",
       "      <td>1.050004</td>\n",
       "    </tr>\n",
       "    <tr>\n",
       "      <th>05-07-2017 00:00</th>\n",
       "      <td>1.038708</td>\n",
       "      <td>0.603610</td>\n",
       "      <td>0.489255</td>\n",
       "      <td>0.726756</td>\n",
       "      <td>1.005544</td>\n",
       "      <td>0.495195</td>\n",
       "      <td>3.274906</td>\n",
       "      <td>0.851366</td>\n",
       "      <td>0.624378</td>\n",
       "      <td>0.999759</td>\n",
       "      <td>...</td>\n",
       "      <td>2.019470</td>\n",
       "      <td>1.325671</td>\n",
       "      <td>2.201794</td>\n",
       "      <td>1.469669</td>\n",
       "      <td>0.419143</td>\n",
       "      <td>0.658447</td>\n",
       "      <td>0.418427</td>\n",
       "      <td>0.06684</td>\n",
       "      <td>0.580678</td>\n",
       "      <td>1.173467</td>\n",
       "    </tr>\n",
       "    <tr>\n",
       "      <th>06-07-2017 00:00</th>\n",
       "      <td>1.037928</td>\n",
       "      <td>0.622561</td>\n",
       "      <td>0.595787</td>\n",
       "      <td>0.733791</td>\n",
       "      <td>1.006799</td>\n",
       "      <td>0.490702</td>\n",
       "      <td>3.242977</td>\n",
       "      <td>0.876565</td>\n",
       "      <td>0.620852</td>\n",
       "      <td>1.002347</td>\n",
       "      <td>...</td>\n",
       "      <td>2.022491</td>\n",
       "      <td>1.328324</td>\n",
       "      <td>2.148457</td>\n",
       "      <td>1.480000</td>\n",
       "      <td>0.419074</td>\n",
       "      <td>0.681030</td>\n",
       "      <td>0.421042</td>\n",
       "      <td>0.06684</td>\n",
       "      <td>0.580954</td>\n",
       "      <td>1.216530</td>\n",
       "    </tr>\n",
       "    <tr>\n",
       "      <th>07-07-2017 00:00</th>\n",
       "      <td>1.049405</td>\n",
       "      <td>0.620301</td>\n",
       "      <td>0.611813</td>\n",
       "      <td>0.752526</td>\n",
       "      <td>1.018479</td>\n",
       "      <td>0.478165</td>\n",
       "      <td>3.071428</td>\n",
       "      <td>0.874210</td>\n",
       "      <td>0.648642</td>\n",
       "      <td>1.018699</td>\n",
       "      <td>...</td>\n",
       "      <td>2.029117</td>\n",
       "      <td>1.353083</td>\n",
       "      <td>2.177609</td>\n",
       "      <td>1.485053</td>\n",
       "      <td>0.422309</td>\n",
       "      <td>0.669937</td>\n",
       "      <td>0.423958</td>\n",
       "      <td>0.06684</td>\n",
       "      <td>0.584178</td>\n",
       "      <td>1.219856</td>\n",
       "    </tr>\n",
       "    <tr>\n",
       "      <th>10-07-2017 00:00</th>\n",
       "      <td>1.049382</td>\n",
       "      <td>0.586922</td>\n",
       "      <td>0.611845</td>\n",
       "      <td>0.752285</td>\n",
       "      <td>1.024031</td>\n",
       "      <td>0.481919</td>\n",
       "      <td>3.083223</td>\n",
       "      <td>0.850630</td>\n",
       "      <td>0.687296</td>\n",
       "      <td>1.052489</td>\n",
       "      <td>...</td>\n",
       "      <td>2.026721</td>\n",
       "      <td>1.381717</td>\n",
       "      <td>2.295564</td>\n",
       "      <td>1.485827</td>\n",
       "      <td>0.446412</td>\n",
       "      <td>0.669554</td>\n",
       "      <td>0.435961</td>\n",
       "      <td>0.06684</td>\n",
       "      <td>0.583519</td>\n",
       "      <td>1.245615</td>\n",
       "    </tr>\n",
       "  </tbody>\n",
       "</table>\n",
       "<p>5 rows × 80 columns</p>\n",
       "</div>"
      ],
      "text/plain": [
       "                      AAPL      ABBV       ABT       ACN      ADBE       AIG  \\\n",
       "Date                                                                           \n",
       "03-07-2017 00:00  1.063223  0.616832  0.499624  0.728602  0.981625  0.485834   \n",
       "05-07-2017 00:00  1.038708  0.603610  0.489255  0.726756  1.005544  0.495195   \n",
       "06-07-2017 00:00  1.037928  0.622561  0.595787  0.733791  1.006799  0.490702   \n",
       "07-07-2017 00:00  1.049405  0.620301  0.611813  0.752526  1.018479  0.478165   \n",
       "10-07-2017 00:00  1.049382  0.586922  0.611845  0.752285  1.024031  0.481919   \n",
       "\n",
       "                       AMD      AMGN       AMT      AMZN  ...       NKE  \\\n",
       "Date                                                      ...             \n",
       "03-07-2017 00:00  2.980026  0.891043  0.621440  0.970485  ...  2.008477   \n",
       "05-07-2017 00:00  3.274906  0.851366  0.624378  0.999759  ...  2.019470   \n",
       "06-07-2017 00:00  3.242977  0.876565  0.620852  1.002347  ...  2.022491   \n",
       "07-07-2017 00:00  3.071428  0.874210  0.648642  1.018699  ...  2.029117   \n",
       "10-07-2017 00:00  3.083223  0.850630  0.687296  1.052489  ...  2.026721   \n",
       "\n",
       "                       NOW      NVDA      ORCL       PEP       PFE        PG  \\\n",
       "Date                                                                           \n",
       "03-07-2017 00:00  1.310070  2.161606  1.470019  0.422495  0.658292  0.426430   \n",
       "05-07-2017 00:00  1.325671  2.201794  1.469669  0.419143  0.658447  0.418427   \n",
       "06-07-2017 00:00  1.328324  2.148457  1.480000  0.419074  0.681030  0.421042   \n",
       "07-07-2017 00:00  1.353083  2.177609  1.485053  0.422309  0.669937  0.423958   \n",
       "10-07-2017 00:00  1.381717  2.295564  1.485827  0.446412  0.669554  0.435961   \n",
       "\n",
       "                     PLTR        PM      PYPL  \n",
       "Date                                           \n",
       "03-07-2017 00:00  0.06684  0.548380  1.050004  \n",
       "05-07-2017 00:00  0.06684  0.580678  1.173467  \n",
       "06-07-2017 00:00  0.06684  0.580954  1.216530  \n",
       "07-07-2017 00:00  0.06684  0.584178  1.219856  \n",
       "10-07-2017 00:00  0.06684  0.583519  1.245615  \n",
       "\n",
       "[5 rows x 80 columns]"
      ]
     },
     "execution_count": 61,
     "metadata": {},
     "output_type": "execute_result"
    }
   ],
   "source": [
    "df1.head()"
   ]
  },
  {
   "cell_type": "code",
   "execution_count": 62,
   "id": "ea69bd13",
   "metadata": {},
   "outputs": [
    {
     "name": "stderr",
     "output_type": "stream",
     "text": [
      "C:\\Users\\VATSAL\\AppData\\Local\\Temp\\ipykernel_15136\\337315467.py:2: SettingWithCopyWarning: \n",
      "A value is trying to be set on a copy of a slice from a DataFrame.\n",
      "Try using .loc[row_indexer,col_indexer] = value instead\n",
      "\n",
      "See the caveats in the documentation: https://pandas.pydata.org/pandas-docs/stable/user_guide/indexing.html#returning-a-view-versus-a-copy\n",
      "  df1[df1.columns[i]]=forecasts[:,i]\n"
     ]
    }
   ],
   "source": [
    "for i in range(len(df1.columns)):\n",
    "  df1[df1.columns[i]]=forecasts[:,i]"
   ]
  },
  {
   "cell_type": "code",
   "execution_count": 63,
   "id": "77b7d340",
   "metadata": {},
   "outputs": [],
   "source": [
    "df1.to_csv(\"HAR Forecasts.csv\")"
   ]
  },
  {
   "cell_type": "code",
   "execution_count": 64,
   "id": "0c4a1928",
   "metadata": {},
   "outputs": [
    {
     "name": "stdout",
     "output_type": "stream",
     "text": [
      "RMSE: 0.22568326799567887 | QLIKE: 0.026825308033247224 | MAE: 0.06849888387071024 | MAPE: 0.18350406678122802\n"
     ]
    }
   ],
   "source": [
    "test=df.iloc[int(len(df)*0.7):]\n",
    "test=np.array(test)\n",
    "RMSE=np.sqrt(np.sum((test-forecasts)**2)/(test.shape[0]*test.shape[1]))\n",
    "MAE=(np.sum(abs(test-forecasts))/(test.shape[0]*test.shape[1]))\n",
    "QLIKE=np.sum(test/forecasts-np.log(test/forecasts)-1)/(test.shape[0]*test.shape[1])\n",
    "MAPE=np.sum(abs(test-forecasts)/(test))/(test.shape[0]*test.shape[1])\n",
    "print(f\"RMSE: {RMSE} | QLIKE: {QLIKE} | MAE: {MAE} | MAPE: {MAPE}\")"
   ]
  }
 ],
 "metadata": {
  "kernelspec": {
   "display_name": "Python 3",
   "language": "python",
   "name": "python3"
  },
  "language_info": {
   "codemirror_mode": {
    "name": "ipython",
    "version": 3
   },
   "file_extension": ".py",
   "mimetype": "text/x-python",
   "name": "python",
   "nbconvert_exporter": "python",
   "pygments_lexer": "ipython3",
   "version": "3.11.5"
  }
 },
 "nbformat": 4,
 "nbformat_minor": 5
}
